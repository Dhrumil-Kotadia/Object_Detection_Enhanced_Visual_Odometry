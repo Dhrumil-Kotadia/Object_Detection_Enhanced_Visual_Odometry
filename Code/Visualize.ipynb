{
 "cells": [
  {
   "cell_type": "code",
   "execution_count": null,
   "metadata": {},
   "outputs": [],
   "source": [
    "import json\n",
    "import matplotlib.pyplot as plt\n",
    "\n",
    "plt.figure(facecolor=\"black\")\n",
    "ax = plt.axes()\n",
    "ax.set_facecolor(\"black\")\n",
    "\n",
    "F = open(\"../Output/Poses_temp.json\", \"r\")\n",
    "Data = json.load(F)\n",
    "F.close()\n",
    "\n",
    "for key in Data:\n",
    "    plt.plot(Data[key][0], -Data[key][2], \"b.\")\n",
    "\n",
    "plt.show()"
   ]
  }
 ],
 "metadata": {
  "kernelspec": {
   "display_name": "usr",
   "language": "python",
   "name": "python3"
  },
  "language_info": {
   "codemirror_mode": {
    "name": "ipython",
    "version": 3
   },
   "file_extension": ".py",
   "mimetype": "text/x-python",
   "name": "python",
   "nbconvert_exporter": "python",
   "pygments_lexer": "ipython3",
   "version": "3.10.12"
  }
 },
 "nbformat": 4,
 "nbformat_minor": 2
}
